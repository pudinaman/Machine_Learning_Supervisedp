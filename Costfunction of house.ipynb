{
 "cells": [
  {
   "cell_type": "code",
   "execution_count": 2,
   "id": "5a639afe-f831-4338-bc07-9b9961b61284",
   "metadata": {},
   "outputs": [],
   "source": [
    "import numpy as np\n",
    "import matplotlib.pyplot as plt\n",
    "from lab_utils_uni import plt_intuition, plt_stationary, plt_update_onclick, soup_bowl\n"
   ]
  },
  {
   "cell_type": "code",
   "execution_count": 4,
   "id": "9c07b458-6721-4a0f-8883-9cf26921a7c6",
   "metadata": {},
   "outputs": [],
   "source": [
    "x_train=np.array([1,2])\n",
    "y_train=np.array([300,500])"
   ]
  },
  {
   "cell_type": "code",
   "execution_count": 5,
   "id": "62a8070d-e024-4c74-af46-b402b3751d8a",
   "metadata": {},
   "outputs": [],
   "source": [
    "def compute_cost(x,y,w,b):\n",
    "   m=x.shape(0)\n",
    "   for i in range(m):\n",
    "       f_wb=w*x[i]+b\n",
    "       cost=(f_wb-y[i])**2\n",
    "       cost_sum=cost_sum+cost\n",
    "   total_cost=(1/(2*m))*(cost_sum)\n",
    "   return total_cost"
   ]
  },
  {
   "cell_type": "code",
   "execution_count": 6,
   "id": "1501585f-b0db-4ca3-a20a-42fd2b01c542",
   "metadata": {},
   "outputs": [
    {
     "data": {
      "application/vnd.jupyter.widget-view+json": {
       "model_id": "149267c351444d37a126c9e55bb397ae",
       "version_major": 2,
       "version_minor": 0
      },
      "text/plain": [
       "interactive(children=(IntSlider(value=150, description='w', max=400, step=10), Output()), _dom_classes=('widge…"
      ]
     },
     "metadata": {},
     "output_type": "display_data"
    }
   ],
   "source": [
    "plt_intuition(x_train,y_train)"
   ]
  },
  {
   "cell_type": "code",
   "execution_count": null,
   "id": "de9dd035-2dee-4cd7-8288-399105e38822",
   "metadata": {},
   "outputs": [],
   "source": []
  }
 ],
 "metadata": {
  "kernelspec": {
   "display_name": "Python 3 (ipykernel)",
   "language": "python",
   "name": "python3"
  },
  "language_info": {
   "codemirror_mode": {
    "name": "ipython",
    "version": 3
   },
   "file_extension": ".py",
   "mimetype": "text/x-python",
   "name": "python",
   "nbconvert_exporter": "python",
   "pygments_lexer": "ipython3",
   "version": "3.10.2"
  }
 },
 "nbformat": 4,
 "nbformat_minor": 5
}
